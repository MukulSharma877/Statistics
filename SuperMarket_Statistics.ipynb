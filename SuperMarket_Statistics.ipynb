{
 "cells": [
  {
   "cell_type": "code",
   "execution_count": 1,
   "id": "628647f0",
   "metadata": {},
   "outputs": [],
   "source": [
    "import pandas as pd\n",
    "import numpy as np"
   ]
  },
  {
   "cell_type": "code",
   "execution_count": 2,
   "id": "7af5a895",
   "metadata": {},
   "outputs": [],
   "source": [
    "data = pd.read_csv(\"Datasets/supermarket.csv\")"
   ]
  },
  {
   "cell_type": "code",
   "execution_count": 3,
   "id": "5f81a2cd",
   "metadata": {},
   "outputs": [
    {
     "name": "stdout",
     "output_type": "stream",
     "text": [
      "<class 'pandas.core.frame.DataFrame'>\n",
      "RangeIndex: 84881 entries, 0 to 84880\n",
      "Data columns (total 5 columns):\n",
      " #   Column         Non-Null Count  Dtype  \n",
      "---  ------         --------------  -----  \n",
      " 0   ProductCode    84881 non-null  object \n",
      " 1   Date           84881 non-null  object \n",
      " 2   Amount         84881 non-null  float64\n",
      " 3   Received Cash  84881 non-null  float64\n",
      " 4   CashierName    84881 non-null  object \n",
      "dtypes: float64(2), object(3)\n",
      "memory usage: 3.2+ MB\n"
     ]
    }
   ],
   "source": [
    "data.info()"
   ]
  },
  {
   "cell_type": "markdown",
   "id": "9bb0bd44",
   "metadata": {},
   "source": [
    "## Calculating Mean, Median, Mode, Range, Variance, Standard Deviation on Amount Column"
   ]
  },
  {
   "cell_type": "code",
   "execution_count": 32,
   "id": "cf3e1bb4",
   "metadata": {},
   "outputs": [
    {
     "data": {
      "text/plain": [
       "189.78110872868814"
      ]
     },
     "execution_count": 32,
     "metadata": {},
     "output_type": "execute_result"
    }
   ],
   "source": [
    "data[\"Amount\"].mean()    # Mean"
   ]
  },
  {
   "cell_type": "code",
   "execution_count": 33,
   "id": "6765d020",
   "metadata": {
    "scrolled": true
   },
   "outputs": [
    {
     "data": {
      "text/plain": [
       "95.0"
      ]
     },
     "execution_count": 33,
     "metadata": {},
     "output_type": "execute_result"
    }
   ],
   "source": [
    "np.median(data[\"Amount\"])    # Median"
   ]
  },
  {
   "cell_type": "code",
   "execution_count": 83,
   "id": "33e506ef",
   "metadata": {},
   "outputs": [
    {
     "data": {
      "text/plain": [
       "50.0"
      ]
     },
     "execution_count": 83,
     "metadata": {},
     "output_type": "execute_result"
    }
   ],
   "source": [
    "data[\"Amount\"].mode()[0]   # Mode"
   ]
  },
  {
   "cell_type": "code",
   "execution_count": 35,
   "id": "f82522d1",
   "metadata": {},
   "outputs": [
    {
     "data": {
      "text/plain": [
       "15036.8"
      ]
     },
     "execution_count": 35,
     "metadata": {},
     "output_type": "execute_result"
    }
   ],
   "source": [
    "np.max(data[\"Amount\"]) - np.min(data[\"Amount\"])    # Range"
   ]
  },
  {
   "cell_type": "code",
   "execution_count": 37,
   "id": "0b2ffcba",
   "metadata": {},
   "outputs": [
    {
     "data": {
      "text/plain": [
       "80673.57892599171"
      ]
     },
     "execution_count": 37,
     "metadata": {},
     "output_type": "execute_result"
    }
   ],
   "source": [
    "np.var(data[\"Amount\"])   # Variance"
   ]
  },
  {
   "cell_type": "code",
   "execution_count": 39,
   "id": "8541fa06",
   "metadata": {},
   "outputs": [
    {
     "data": {
      "text/plain": [
       "284.03094712723066"
      ]
     },
     "execution_count": 39,
     "metadata": {},
     "output_type": "execute_result"
    }
   ],
   "source": [
    "np.std(data[\"Amount\"])   #Standard Deviation"
   ]
  },
  {
   "cell_type": "markdown",
   "id": "8148c4df",
   "metadata": {},
   "source": [
    "## Calculating Mean, Median, Mode, Range, Variance, Standard Deviation on Received Cash Column"
   ]
  },
  {
   "cell_type": "code",
   "execution_count": 41,
   "id": "de15d112",
   "metadata": {},
   "outputs": [
    {
     "data": {
      "text/plain": [
       "185273189.80236167"
      ]
     },
     "execution_count": 41,
     "metadata": {},
     "output_type": "execute_result"
    }
   ],
   "source": [
    "data[\"Received Cash\"].mean()   #Mean"
   ]
  },
  {
   "cell_type": "code",
   "execution_count": 42,
   "id": "a8e8139c",
   "metadata": {
    "scrolled": true
   },
   "outputs": [
    {
     "data": {
      "text/plain": [
       "155.0"
      ]
     },
     "execution_count": 42,
     "metadata": {},
     "output_type": "execute_result"
    }
   ],
   "source": [
    "np.median(data[\"Received Cash\"])    # Median"
   ]
  },
  {
   "cell_type": "code",
   "execution_count": 82,
   "id": "41e53053",
   "metadata": {},
   "outputs": [
    {
     "data": {
      "text/plain": [
       "200.0"
      ]
     },
     "execution_count": 82,
     "metadata": {},
     "output_type": "execute_result"
    }
   ],
   "source": [
    "data[\"Received Cash\"].mode()[0]   # Mode"
   ]
  },
  {
   "cell_type": "code",
   "execution_count": 44,
   "id": "94a4a981",
   "metadata": {},
   "outputs": [
    {
     "data": {
      "text/plain": [
       "7500000000000.0"
      ]
     },
     "execution_count": 44,
     "metadata": {},
     "output_type": "execute_result"
    }
   ],
   "source": [
    "np.max(data[\"Received Cash\"]) - np.min(data[\"Received Cash\"])    # Range"
   ]
  },
  {
   "cell_type": "code",
   "execution_count": 45,
   "id": "33c45f30",
   "metadata": {},
   "outputs": [
    {
     "data": {
      "text/plain": [
       "1.3314752578951195e+21"
      ]
     },
     "execution_count": 45,
     "metadata": {},
     "output_type": "execute_result"
    }
   ],
   "source": [
    "np.var(data[\"Received Cash\"])   # Variance"
   ]
  },
  {
   "cell_type": "code",
   "execution_count": 46,
   "id": "83ffb451",
   "metadata": {},
   "outputs": [
    {
     "data": {
      "text/plain": [
       "36489385551.07662"
      ]
     },
     "execution_count": 46,
     "metadata": {},
     "output_type": "execute_result"
    }
   ],
   "source": [
    "np.std(data[\"Received Cash\"])   #Standard Deviation"
   ]
  },
  {
   "cell_type": "markdown",
   "id": "6e335c1d",
   "metadata": {},
   "source": [
    "## Calculating Mean, Median, Mode, Range, Variance, Standard Deviation on Amount Column Grouped By Cashier Name"
   ]
  },
  {
   "cell_type": "code",
   "execution_count": 63,
   "id": "dfdfbfed",
   "metadata": {},
   "outputs": [
    {
     "data": {
      "text/plain": [
       "CashierName\n",
       "ELI C.           246.795213\n",
       "ALE DIAZ         216.268401\n",
       "GABY LUCIO       214.441235\n",
       "MIRIAM LANDIN    213.675364\n",
       "LINA             209.791741\n",
       "ROSI MEJIA       208.866889\n",
       "MIRIAM           208.206072\n",
       "ALE HUERTA       207.716125\n",
       "FERNANDO C       203.372877\n",
       "MAYTE            202.468611\n",
       "MARICRUZ         200.044476\n",
       "JUAN MARTIN      198.642313\n",
       "JESUS PEREZ      194.092549\n",
       "JANET            189.681764\n",
       "EDUARDO V        170.258569\n",
       "EDUARDO          164.768130\n",
       "JAQUELINE        114.751490\n",
       "MONSE L.          90.563916\n",
       "MAGO              89.643449\n",
       "SARAHY            76.866814\n",
       "CLAUDIA           61.223397\n",
       "Name: Amount, dtype: float64"
      ]
     },
     "execution_count": 63,
     "metadata": {},
     "output_type": "execute_result"
    }
   ],
   "source": [
    "data.groupby(\"CashierName\").Amount.mean().sort_values(ascending = False)   # Mean"
   ]
  },
  {
   "cell_type": "code",
   "execution_count": 64,
   "id": "cbf91d70",
   "metadata": {},
   "outputs": [
    {
     "data": {
      "text/plain": [
       "CashierName\n",
       "ELI C.           150.475\n",
       "ROSI MEJIA       110.000\n",
       "ALE DIAZ         109.950\n",
       "MIRIAM           109.400\n",
       "LINA             107.750\n",
       "GABY LUCIO       106.150\n",
       "MAYTE            106.000\n",
       "ALE HUERTA       104.100\n",
       "MIRIAM LANDIN    102.650\n",
       "FERNANDO C       102.450\n",
       "JUAN MARTIN      102.350\n",
       "MARICRUZ         100.000\n",
       "JESUS PEREZ      100.000\n",
       "JANET             96.375\n",
       "EDUARDO           87.000\n",
       "EDUARDO V         81.500\n",
       "JAQUELINE         40.900\n",
       "MAGO              40.000\n",
       "MONSE L.          35.040\n",
       "SARAHY            33.890\n",
       "CLAUDIA           29.500\n",
       "Name: Amount, dtype: float64"
      ]
     },
     "execution_count": 64,
     "metadata": {},
     "output_type": "execute_result"
    }
   ],
   "source": [
    "data.groupby(\"CashierName\").Amount.median().sort_values(ascending = False)   # Median"
   ]
  },
  {
   "cell_type": "code",
   "execution_count": 17,
   "id": "985e20ca",
   "metadata": {},
   "outputs": [
    {
     "data": {
      "text/plain": [
       "ALE DIAZ         100.0\n",
       "ALE HUERTA        50.0\n",
       "CLAUDIA           20.0\n",
       "EDUARDO           21.0\n",
       "EDUARDO V         12.0\n",
       "ELI C.            10.5\n",
       "FERNANDO C        50.0\n",
       "GABY LUCIO        10.0\n",
       "JANET            100.0\n",
       "JAQUELINE         12.0\n",
       "JESUS PEREZ      100.0\n",
       "JUAN MARTIN       10.0\n",
       "LINA              50.0\n",
       "MAGO               1.0\n",
       "MARICRUZ          50.0\n",
       "MAYTE            100.0\n",
       "MIRIAM            50.0\n",
       "MIRIAM LANDIN     10.0\n",
       "MONSE L.          50.0\n",
       "ROSI MEJIA        10.0\n",
       "SARAHY             3.0\n",
       "dtype: float64"
      ]
     },
     "execution_count": 17,
     "metadata": {},
     "output_type": "execute_result"
    }
   ],
   "source": [
    "dic = dict()\n",
    "for i, df in data.groupby(\"CashierName\"):\n",
    "    dic[i] = df[\"Amount\"].mode()[0]\n",
    "dic_S = pd.Series(dic)\n",
    "dic_S"
   ]
  },
  {
   "cell_type": "code",
   "execution_count": 18,
   "id": "5d4f5d94",
   "metadata": {},
   "outputs": [
    {
     "data": {
      "text/plain": [
       "ALE DIAZ          3297.31\n",
       "ALE HUERTA        6350.76\n",
       "CLAUDIA           1002.50\n",
       "EDUARDO           1875.22\n",
       "EDUARDO V         4130.65\n",
       "ELI C.            2557.21\n",
       "FERNANDO C        6606.52\n",
       "GABY LUCIO        4489.45\n",
       "JANET             5235.70\n",
       "JAQUELINE         5179.95\n",
       "JESUS PEREZ       5705.20\n",
       "JUAN MARTIN       7007.83\n",
       "LINA              6929.12\n",
       "MAGO              1519.50\n",
       "MARICRUZ          5138.94\n",
       "MAYTE             5607.73\n",
       "MIRIAM            3498.45\n",
       "MIRIAM LANDIN     3363.00\n",
       "MONSE L.         13568.38\n",
       "ROSI MEJIA        3659.45\n",
       "SARAHY            2286.00\n",
       "dtype: float64"
      ]
     },
     "execution_count": 18,
     "metadata": {},
     "output_type": "execute_result"
    }
   ],
   "source": [
    "dic = dict()\n",
    "for i, df in data.groupby(\"CashierName\"):\n",
    "    dic[i] = df[\"Amount\"].max() - df[\"Amount\"].min()\n",
    "dic_S = pd.Series(dic)\n",
    "dic_S"
   ]
  },
  {
   "cell_type": "code",
   "execution_count": 19,
   "id": "90c9cb87",
   "metadata": {},
   "outputs": [
    {
     "data": {
      "text/plain": [
       "ALE DIAZ          89521.680469\n",
       "ALE HUERTA        87398.536239\n",
       "CLAUDIA           10008.887191\n",
       "EDUARDO           53323.791197\n",
       "EDUARDO V         71078.379059\n",
       "ELI C.           117438.168388\n",
       "FERNANDO C        85487.523563\n",
       "GABY LUCIO        96260.542200\n",
       "JANET             78763.075646\n",
       "JAQUELINE         56493.440304\n",
       "JESUS PEREZ       76699.428400\n",
       "JUAN MARTIN       79420.419581\n",
       "LINA              95047.344225\n",
       "MAGO              21681.269134\n",
       "MARICRUZ          79644.182289\n",
       "MAYTE             78565.776931\n",
       "MIRIAM            85088.389500\n",
       "MIRIAM LANDIN     95122.044854\n",
       "MONSE L.          76115.826009\n",
       "ROSI MEJIA        82161.711082\n",
       "SARAHY            20546.233947\n",
       "dtype: float64"
      ]
     },
     "execution_count": 19,
     "metadata": {},
     "output_type": "execute_result"
    }
   ],
   "source": [
    "dic = dict()\n",
    "for i, df in data.groupby(\"CashierName\"):\n",
    "    dic[i] = np.var(df[\"Amount\"])\n",
    "dic_S = pd.Series(dic)\n",
    "dic_S"
   ]
  },
  {
   "cell_type": "code",
   "execution_count": 21,
   "id": "4604d562",
   "metadata": {
    "scrolled": true
   },
   "outputs": [
    {
     "data": {
      "text/plain": [
       "ALE DIAZ         299.201739\n",
       "ALE HUERTA       295.632434\n",
       "CLAUDIA          100.044426\n",
       "EDUARDO          230.919447\n",
       "EDUARDO V        266.605287\n",
       "ELI C.           342.692527\n",
       "FERNANDO C       292.382495\n",
       "GABY LUCIO       310.258831\n",
       "JANET            280.647600\n",
       "JAQUELINE        237.683488\n",
       "JESUS PEREZ      276.946617\n",
       "JUAN MARTIN      281.816287\n",
       "LINA             308.297493\n",
       "MAGO             147.245608\n",
       "MARICRUZ         282.213009\n",
       "MAYTE            280.295874\n",
       "MIRIAM           291.699142\n",
       "MIRIAM LANDIN    308.418620\n",
       "MONSE L.         275.890968\n",
       "ROSI MEJIA       286.638642\n",
       "SARAHY           143.339576\n",
       "dtype: float64"
      ]
     },
     "execution_count": 21,
     "metadata": {},
     "output_type": "execute_result"
    }
   ],
   "source": [
    "dic = dict()\n",
    "for i, df in data.groupby(\"CashierName\"):\n",
    "    dic[i] = np.std(df[\"Amount\"])\n",
    "dic_S = pd.Series(dic)\n",
    "dic_S"
   ]
  },
  {
   "cell_type": "markdown",
   "id": "8c3f1bbe",
   "metadata": {},
   "source": [
    "## Calculating Mean, Median, Mode, Range, Variance, Standard Deviation on Received Cash Column Grouped By Cashier Name"
   ]
  },
  {
   "cell_type": "code",
   "execution_count": 22,
   "id": "e00b14f1",
   "metadata": {},
   "outputs": [
    {
     "data": {
      "text/plain": [
       "CashierName\n",
       "ALE HUERTA       8.048053e+08\n",
       "JUAN MARTIN      7.290831e+08\n",
       "MAYTE            8.803194e+05\n",
       "JANET            2.253275e+04\n",
       "LINA             6.548626e+03\n",
       "GABY LUCIO       5.724789e+02\n",
       "FERNANDO C       3.386236e+02\n",
       "ALE DIAZ         3.326913e+02\n",
       "ELI C.           3.275134e+02\n",
       "MIRIAM LANDIN    2.796833e+02\n",
       "MIRIAM           2.787088e+02\n",
       "ROSI MEJIA       2.758529e+02\n",
       "MARICRUZ         2.676602e+02\n",
       "JESUS PEREZ      2.622993e+02\n",
       "EDUARDO V        2.260040e+02\n",
       "EDUARDO          2.148254e+02\n",
       "JAQUELINE        1.630144e+02\n",
       "MONSE L.         1.390938e+02\n",
       "MAGO             1.307860e+02\n",
       "SARAHY           1.216378e+02\n",
       "CLAUDIA          1.008619e+02\n",
       "Name: Received Cash, dtype: float64"
      ]
     },
     "execution_count": 22,
     "metadata": {},
     "output_type": "execute_result"
    }
   ],
   "source": [
    "data.groupby(\"CashierName\")[\"Received Cash\"].mean().sort_values(ascending = False)   # Mean"
   ]
  },
  {
   "cell_type": "code",
   "execution_count": 23,
   "id": "811246ee",
   "metadata": {},
   "outputs": [
    {
     "data": {
      "text/plain": [
       "CashierName\n",
       "ALE DIAZ         200.00\n",
       "ALE HUERTA       200.00\n",
       "ROSI MEJIA       200.00\n",
       "MIRIAM LANDIN    200.00\n",
       "MIRIAM           200.00\n",
       "MAYTE            200.00\n",
       "MARICRUZ         200.00\n",
       "LINA             200.00\n",
       "JUAN MARTIN      200.00\n",
       "JESUS PEREZ      200.00\n",
       "GABY LUCIO       200.00\n",
       "FERNANDO C       200.00\n",
       "ELI C.           200.00\n",
       "JANET            154.00\n",
       "EDUARDO V        110.00\n",
       "EDUARDO          110.00\n",
       "JAQUELINE         56.76\n",
       "MAGO              51.50\n",
       "MONSE L.          50.00\n",
       "CLAUDIA           50.00\n",
       "SARAHY            50.00\n",
       "Name: Received Cash, dtype: float64"
      ]
     },
     "execution_count": 23,
     "metadata": {},
     "output_type": "execute_result"
    }
   ],
   "source": [
    "data.groupby(\"CashierName\")[\"Received Cash\"].median().sort_values(ascending = False)   # Median"
   ]
  },
  {
   "cell_type": "code",
   "execution_count": 24,
   "id": "0bd0c292",
   "metadata": {},
   "outputs": [
    {
     "data": {
      "text/plain": [
       "ALE DIAZ         200.0\n",
       "ALE HUERTA       200.0\n",
       "CLAUDIA           50.0\n",
       "EDUARDO          200.0\n",
       "EDUARDO V        100.0\n",
       "ELI C.           500.0\n",
       "FERNANDO C       200.0\n",
       "GABY LUCIO       200.0\n",
       "JANET            100.0\n",
       "JAQUELINE         50.0\n",
       "JESUS PEREZ      200.0\n",
       "JUAN MARTIN      200.0\n",
       "LINA             200.0\n",
       "MAGO              50.0\n",
       "MARICRUZ         200.0\n",
       "MAYTE            200.0\n",
       "MIRIAM           200.0\n",
       "MIRIAM LANDIN    100.0\n",
       "MONSE L.          50.0\n",
       "ROSI MEJIA       200.0\n",
       "SARAHY            50.0\n",
       "dtype: float64"
      ]
     },
     "execution_count": 24,
     "metadata": {},
     "output_type": "execute_result"
    }
   ],
   "source": [
    "dic = dict()\n",
    "for i, df in data.groupby(\"CashierName\"):\n",
    "    dic[i] = df[\"Received Cash\"].mode()[0]     # Mode\n",
    "dic_S = pd.Series(dic)\n",
    "dic_S"
   ]
  },
  {
   "cell_type": "code",
   "execution_count": 25,
   "id": "063245f2",
   "metadata": {},
   "outputs": [
    {
     "data": {
      "text/plain": [
       "ALE DIAZ         5.050200e+04\n",
       "ALE HUERTA       7.500000e+12\n",
       "CLAUDIA          8.865000e+02\n",
       "EDUARDO          1.874720e+03\n",
       "EDUARDO V        4.000000e+03\n",
       "ELI C.           2.595000e+03\n",
       "FERNANDO C       6.236230e+05\n",
       "GABY LUCIO       7.607860e+05\n",
       "JANET            8.005297e+07\n",
       "JAQUELINE        5.000000e+03\n",
       "JESUS PEREZ      5.299200e+03\n",
       "JUAN MARTIN      7.500000e+12\n",
       "LINA             7.455689e+06\n",
       "MAGO             1.699000e+03\n",
       "MARICRUZ         6.000000e+03\n",
       "MAYTE            4.897456e+09\n",
       "MIRIAM           4.410000e+03\n",
       "MIRIAM LANDIN    3.272000e+03\n",
       "MONSE L.         1.327000e+04\n",
       "ROSI MEJIA       4.008000e+03\n",
       "SARAHY           2.214000e+03\n",
       "dtype: float64"
      ]
     },
     "execution_count": 25,
     "metadata": {},
     "output_type": "execute_result"
    }
   ],
   "source": [
    "dic = dict()\n",
    "for i, df in data.groupby(\"CashierName\"):\n",
    "    dic[i] = df[\"Received Cash\"].max() - df[\"Received Cash\"].min()   # Range\n",
    "dic_S = pd.Series(dic)\n",
    "dic_S"
   ]
  },
  {
   "cell_type": "code",
   "execution_count": 28,
   "id": "7b96dbb2",
   "metadata": {
    "scrolled": true
   },
   "outputs": [
    {
     "data": {
      "text/plain": [
       "ALE DIAZ         2.002563e+06\n",
       "ALE HUERTA       5.556850e+21\n",
       "CLAUDIA          1.841986e+04\n",
       "EDUARDO          6.092272e+04\n",
       "EDUARDO V        8.585394e+04\n",
       "ELI C.           1.329045e+05\n",
       "FERNANDO C       3.869736e+07\n",
       "GABY LUCIO       2.232490e+08\n",
       "JANET            1.782597e+12\n",
       "JAQUELINE        6.928931e+04\n",
       "JESUS PEREZ      9.312595e+04\n",
       "JUAN MARTIN      5.467535e+21\n",
       "LINA             4.650416e+10\n",
       "MAGO             3.380057e+04\n",
       "MARICRUZ         9.724256e+04\n",
       "MAYTE            4.309211e+15\n",
       "MIRIAM           1.073193e+05\n",
       "MIRIAM LANDIN    1.147165e+05\n",
       "MONSE L.         9.064517e+04\n",
       "ROSI MEJIA       9.980571e+04\n",
       "SARAHY           3.137630e+04\n",
       "dtype: float64"
      ]
     },
     "execution_count": 28,
     "metadata": {},
     "output_type": "execute_result"
    }
   ],
   "source": [
    "dic = dict()\n",
    "for i, df in data.groupby(\"CashierName\"):\n",
    "    dic[i] = np.var(df[\"Received Cash\"])    # Variance\n",
    "dic_S = pd.Series(dic)\n",
    "dic_S"
   ]
  },
  {
   "cell_type": "code",
   "execution_count": 27,
   "id": "e08ecabd",
   "metadata": {
    "scrolled": true
   },
   "outputs": [
    {
     "data": {
      "text/plain": [
       "ALE DIAZ         299.201739\n",
       "ALE HUERTA       295.632434\n",
       "CLAUDIA          100.044426\n",
       "EDUARDO          230.919447\n",
       "EDUARDO V        266.605287\n",
       "ELI C.           342.692527\n",
       "FERNANDO C       292.382495\n",
       "GABY LUCIO       310.258831\n",
       "JANET            280.647600\n",
       "JAQUELINE        237.683488\n",
       "JESUS PEREZ      276.946617\n",
       "JUAN MARTIN      281.816287\n",
       "LINA             308.297493\n",
       "MAGO             147.245608\n",
       "MARICRUZ         282.213009\n",
       "MAYTE            280.295874\n",
       "MIRIAM           291.699142\n",
       "MIRIAM LANDIN    308.418620\n",
       "MONSE L.         275.890968\n",
       "ROSI MEJIA       286.638642\n",
       "SARAHY           143.339576\n",
       "dtype: float64"
      ]
     },
     "execution_count": 27,
     "metadata": {},
     "output_type": "execute_result"
    }
   ],
   "source": [
    "dic = dict()\n",
    "for i, df in data.groupby(\"CashierName\"):\n",
    "    dic[i] = np.std(df[\"Amount\"])     # Standard Deviation\n",
    "dic_S = pd.Series(dic)\n",
    "dic_S"
   ]
  }
 ],
 "metadata": {
  "kernelspec": {
   "display_name": "Python 3 (ipykernel)",
   "language": "python",
   "name": "python3"
  },
  "language_info": {
   "codemirror_mode": {
    "name": "ipython",
    "version": 3
   },
   "file_extension": ".py",
   "mimetype": "text/x-python",
   "name": "python",
   "nbconvert_exporter": "python",
   "pygments_lexer": "ipython3",
   "version": "3.9.12"
  }
 },
 "nbformat": 4,
 "nbformat_minor": 5
}
